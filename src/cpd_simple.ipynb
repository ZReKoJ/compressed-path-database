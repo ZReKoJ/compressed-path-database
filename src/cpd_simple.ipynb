{
 "cells": [
  {
   "cell_type": "code",
   "execution_count": 27,
   "metadata": {},
   "outputs": [],
   "source": [
    "import networkx as nx\n",
    "import matplotlib.pyplot as plt\n",
    "import numpy as np\n",
    "import random"
   ]
  },
  {
   "cell_type": "code",
   "execution_count": 214,
   "metadata": {},
   "outputs": [
    {
     "name": "stdout",
     "output_type": "stream",
     "text": [
      "[[ 0 20 29 20  0  0  0  3]\n",
      " [20  0 38  0  0 30  0 37]\n",
      " [29 38  0  0 46  0  3  0]\n",
      " [20  0  0  0 37  2  4  0]\n",
      " [ 0  0 46 37  0  0  5  0]\n",
      " [ 0 30  0  2  0  0  0  0]\n",
      " [ 0  0  3  4  5  0  0  0]\n",
      " [ 3 37  0  0  0  0  0  0]]\n"
     ]
    }
   ],
   "source": [
    "def getRandomGraphAdjacencyMatrix(nNodes, maxDistance, probability):\n",
    "    # Return random integers from low (inclusive) to high (exclusive).\n",
    "    randomMatrix = np.random.randint(1, maxDistance, (nNodes, nNodes))\n",
    "    \n",
    "    for i in range(0, len(randomMatrix)):\n",
    "        # Diagonal to 0\n",
    "        randomMatrix[i, i] = 0\n",
    "        # Diagonal symmetric\n",
    "        for j in range(i + 1, len(randomMatrix)):\n",
    "            # remove edges to avoid complete graph\n",
    "            if random.random() > probability:\n",
    "                randomMatrix[j, i] = randomMatrix[i, j]\n",
    "            else:\n",
    "                randomMatrix[j, i] = randomMatrix[i, j] = 0\n",
    "\n",
    "    return randomMatrix\n",
    "\n",
    "# Example execution\n",
    "adjacencyMatrix = getRandomGraphAdjacencyMatrix(8, 50, 0.5)\n",
    "print(adjacencyMatrix)\n",
    "\n",
    "# Example 1\n",
    "#adjacencyMatrixExample1 = [\n",
    "#    [ 0  0  0  1  0  0  3  0]\n",
    "#    [ 0  0  0 31 48  0  0  0]\n",
    "#    [ 0  0  0  0  0  0  0  5]\n",
    "#    [ 1 31  0  0  0  0  0 40]\n",
    "#    [ 0 48  0  0  0 24  0  0]\n",
    "#    [ 0  0  0  0 24  0  1  0]\n",
    "#    [ 3  0  0  0  0  1  0 17]\n",
    "#    [ 0  0  5 40  0  0 17  0]\n",
    "#]"
   ]
  },
  {
   "cell_type": "code",
   "execution_count": 215,
   "metadata": {},
   "outputs": [
    {
     "name": "stdout",
     "output_type": "stream",
     "text": [
      "Nodes of graph: \n",
      "[0, 1, 2, 3, 4, 5, 6, 7]\n",
      "Edges of graph: \n",
      "[(0, 1), (0, 2), (0, 3), (0, 7), (1, 2), (1, 5), (1, 7), (2, 4), (2, 6), (3, 4), (3, 5), (3, 6), (4, 6)]\n"
     ]
    },
    {
     "data": {
      "image/png": "[encoded data removed]",
      "text/plain": [
       "<Figure size 432x288 with 1 Axes>"
      ]
     },
     "metadata": {},
     "output_type": "display_data"
    }
   ],
   "source": [
    "def printGraph(adjacencyMatrix):\n",
    "    G=nx.Graph()\n",
    "    \n",
    "    for i in range(0, len(adjacencyMatrix)):\n",
    "        G.add_node(i)\n",
    "    \n",
    "    for idx, x in np.ndenumerate(adjacencyMatrix):\n",
    "        if x > 0:\n",
    "            G.add_edge(*idx, weight=x)\n",
    "        \n",
    "    print(\"Nodes of graph: \")\n",
    "    print(G.nodes())\n",
    "    print(\"Edges of graph: \")\n",
    "    print(G.edges())\n",
    "    \n",
    "    pos = nx.spring_layout(G) # pos = nx.nx_agraph.graphviz_layout(G)\n",
    "    nx.draw(G, pos, with_labels=True)\n",
    "    labels = nx.get_edge_attributes(G,'weight')\n",
    "    nx.draw_networkx_edge_labels(G, pos, edge_labels=labels)\n",
    "\n",
    "    #plt.savefig(\"simple_path.png\") # save as png\n",
    "\n",
    "# Example execution\n",
    "printGraph(adjacencyMatrix)"
   ]
  },
  {
   "cell_type": "code",
   "execution_count": 216,
   "metadata": {},
   "outputs": [
    {
     "name": "stdout",
     "output_type": "stream",
     "text": [
      "[[ 0  0]\n",
      " [20  0]\n",
      " [27  6]\n",
      " [20  0]\n",
      " [29  6]\n",
      " [22  3]\n",
      " [24  3]\n",
      " [ 3  0]]\n"
     ]
    }
   ],
   "source": [
    "def dijkstra(adjacencyMatrix, fromNode):\n",
    "    # (distance, previousNode)\n",
    "    path = np.full((len(adjacencyMatrix), 2), -1)\n",
    "    \n",
    "    priorityQueue = []\n",
    "    # (distance, previousNode, currentNode)\n",
    "    priorityQueue.append((0, fromNode, fromNode))\n",
    "    \n",
    "    while len(priorityQueue):\n",
    "        current = priorityQueue.pop(0)\n",
    "        if path[current[2], 1] == -1 or path[current[2], 0] > current[0]:\n",
    "            path[current[2]] = [current[0], current[1]] \n",
    "            for idx, x in enumerate(adjacencyMatrix[current[2]]):\n",
    "                if x > 0:\n",
    "                    distance = current[0] + x\n",
    "                    if path[idx, 1] == -1 or path[idx, 0] > distance:\n",
    "                        priorityQueue.append((distance, current[2], idx))\n",
    "        priorityQueue.sort()\n",
    "\n",
    "    return path\n",
    "    \n",
    "# Example execution\n",
    "print(dijkstra(adjacencyMatrix, 0))"
   ]
  },
  {
   "cell_type": "code",
   "execution_count": 217,
   "metadata": {},
   "outputs": [
    {
     "name": "stdout",
     "output_type": "stream",
     "text": [
      "[[-1  1  3  3  3  3  3  7]\n",
      " [ 0 -1  2  5  5  5  5  0]\n",
      " [ 6  1 -1  6  6  6  6  6]\n",
      " [ 0  5  6 -1  6  5  6  0]\n",
      " [ 6  6  6  6 -1  6  6  6]\n",
      " [ 3  1  3  3  3 -1  3  3]\n",
      " [ 3  3  2  3  4  3 -1  3]\n",
      " [ 0  0  0  0  0  0  0 -1]]\n"
     ]
    }
   ],
   "source": [
    "def getCPD(adjacencyMatrix):\n",
    "    cpd = np.zeros(adjacencyMatrix.shape, dtype=int)\n",
    "    \n",
    "    for x in range(0, len(adjacencyMatrix)):\n",
    "        # get previous node column as array after calculate dijkstra\n",
    "        cpd[x] = dijkstra(adjacencyMatrix, x)[:,1]\n",
    "    \n",
    "    for i in range(0, len(cpd)):\n",
    "        # Diagonal to -1 as dont cares\n",
    "        cpd[i, i] = -1\n",
    "    \n",
    "    # rows is destination and column is start point\n",
    "    # so to know first step from 0 to 5 it is cpd[5, 0]\n",
    "    # to change to original format need transpose\n",
    "    return np.transpose(cpd)\n",
    "\n",
    "# Example execution\n",
    "cpd = getCPD(adjacencyMatrix)\n",
    "print(cpd)"
   ]
  },
  {
   "cell_type": "code",
   "execution_count": 218,
   "metadata": {},
   "outputs": [
    {
     "name": "stdout",
     "output_type": "stream",
     "text": [
      "[(1, 1), (3, 3), (8, 7)]\n",
      "[(1, 0), (3, 2), (4, 5), (8, 0)]\n",
      "[(1, 6), (2, 1), (4, 6)]\n",
      "[(1, 0), (2, 5), (3, 6), (6, 5), (7, 6), (8, 0)]\n",
      "[(1, 6)]\n",
      "[(1, 3), (2, 1), (3, 3)]\n",
      "[(1, 3), (3, 2), (4, 3), (5, 4), (6, 3)]\n",
      "[(1, 0)]\n"
     ]
    }
   ],
   "source": [
    "def getRLE(cpd):\n",
    "    cpdcopy = np.copy(cpd)\n",
    "    rle = []\n",
    "    \n",
    "    for i in cpdcopy:\n",
    "        for j in range(1, len(i)):\n",
    "            if i[j] == -1:\n",
    "                i[j] = i[j - 1]\n",
    "        for j in range(0, len(i) - 1):\n",
    "            if i[j] == -1:\n",
    "                i[j] = i[j + 1]\n",
    "    for i in cpdcopy:\n",
    "        rl = []\n",
    "        rl.append((1, i[0]))\n",
    "        for j in range(1, len(i)):\n",
    "            # -1 as dont cares\n",
    "            if i[j] != i[j - 1]:\n",
    "                rl.append((j + 1, i[j]))\n",
    "        rle.append(rl)\n",
    "    return rle\n",
    "\n",
    "# Example execution        \n",
    "rle = getRLE(cpd)\n",
    "for r in rle:\n",
    "    print(r)"
   ]
  },
  {
   "cell_type": "code",
   "execution_count": 219,
   "metadata": {},
   "outputs": [
    {
     "name": "stdout",
     "output_type": "stream",
     "text": [
      "26\n"
     ]
    }
   ],
   "source": [
    "def getRLELength(rle):\n",
    "    return sum(map(lambda x : len(x), rle))\n",
    "    \n",
    "# Example execution\n",
    "print(getRLELength(rle))"
   ]
  },
  {
   "cell_type": "code",
   "execution_count": 220,
   "metadata": {},
   "outputs": [
    {
     "name": "stdout",
     "output_type": "stream",
     "text": [
      "[[-1 -1  3 -1  3  3 -1  7]\n",
      " [ 0 -1  2  5  5  5  5  0]\n",
      " [-1 -1 -1 -1 -1 -1 -1 -1]\n",
      " [ 0 -1  6 -1  6  5  6  0]\n",
      " [-1 -1  6 -1 -1 -1 -1 -1]\n",
      " [-1 -1  3 -1  3 -1 -1 -1]\n",
      " [ 3 -1  2 -1  4  3 -1  3]\n",
      " [-1 -1  0 -1  0  0 -1 -1]]\n"
     ]
    }
   ],
   "source": [
    "def getWildcardsCPD(cpd, wildcards):\n",
    "    wildcardCPD = np.copy(cpd)\n",
    "    \n",
    "    for i in reversed(range(0, len(wildcards))):\n",
    "        for j in range(0, i):\n",
    "            wildcardCPD[wildcards[i], wildcards[j]] = -1\n",
    "            \n",
    "    return wildcardCPD\n",
    "\n",
    "# Example execution\n",
    "wildcards = np.arange(len(cpd)).tolist()\n",
    "random.shuffle(wildcards)\n",
    "wildcardCPD = getWildcardsCPD(cpd, wildcards)\n",
    "print(wildcardCPD)"
   ]
  },
  {
   "cell_type": "code",
   "execution_count": 221,
   "metadata": {},
   "outputs": [
    {
     "name": "stdout",
     "output_type": "stream",
     "text": [
      "[[-1  1  3  3  3  3  3  7]\n",
      " [ 0 -1  2  5  5  5  5  0]\n",
      " [ 6  1 -1  6  6  6  6  6]\n",
      " [ 0  5  6 -1  6  5  6  0]\n",
      " [ 6  6  6  6 -1  6  6  6]\n",
      " [ 3  1  3  3  3 -1  3  3]\n",
      " [ 3  3  2  3  4  3 -1  3]\n",
      " [ 0  0  0  0  0  0  0 -1]]\n",
      "[[ 7  3  3  1  3  3 -1  3]\n",
      " [ 0  5  5 -1  5  2  0  5]\n",
      " [ 6  6  6  1  6 -1  6  6]\n",
      " [ 0  6  5  5 -1  6  0  6]\n",
      " [ 6 -1  6  6  6  6  6  6]\n",
      " [ 3  3 -1  1  3  3  3  3]\n",
      " [ 3  4  3  3  3  2  3 -1]\n",
      " [-1  0  0  0  0  0  0  0]]\n"
     ]
    }
   ],
   "source": [
    "# Need to implement another for rows\n",
    "def getPermutationCPD(cpd, permutation):\n",
    "    return cpd[:, permutation]\n",
    "    \n",
    "# Example execution \n",
    "print(cpd)\n",
    "perm = np.arange(len(cpd)).tolist()\n",
    "random.shuffle(perm)\n",
    "permutationCPD = getPermutationCPD(cpd, perm)\n",
    "print(permutationCPD)"
   ]
  },
  {
   "cell_type": "code",
   "execution_count": 226,
   "metadata": {},
   "outputs": [
    {
     "name": "stdout",
     "output_type": "stream",
     "text": [
      "[0, 1, 2, 3, 4, 5, 6, 7] 21\n",
      "[[-1  1  3  3  3  3  3  7]\n",
      " [-1 -1  2  5  5  5  5  0]\n",
      " [-1 -1 -1  6  6  6  6  6]\n",
      " [-1 -1 -1 -1  6  5  6  0]\n",
      " [-1 -1 -1 -1 -1  6  6  6]\n",
      " [-1 -1 -1 -1 -1 -1  3  3]\n",
      " [-1 -1 -1 -1 -1 -1 -1  3]\n",
      " [-1 -1 -1 -1 -1 -1 -1 -1]]\n",
      "[(1, 1), (3, 3), (8, 7)]\n",
      "[(1, -1), (2, 2), (4, 5), (8, 0)]\n",
      "[(1, -1), (3, 6)]\n",
      "[(1, -1), (4, 6), (6, 5), (7, 6), (8, 0)]\n",
      "[(1, -1), (5, 6)]\n",
      "[(1, -1), (6, 3)]\n",
      "[(1, -1), (7, 3)]\n",
      "[(1, -1)]\n",
      "--------------------------------------\n",
      "[1, 2, 5, 3, 6, 7, 4, 0] 15\n",
      "[[-1 -1 -1 -1 -1 -1 -1 -1]\n",
      " [ 0 -1  2  5  5  5  5  0]\n",
      " [ 6 -1 -1  6  6  6  6  6]\n",
      " [ 0 -1 -1 -1  6 -1  6  0]\n",
      " [ 6 -1 -1 -1 -1 -1 -1 -1]\n",
      " [ 3 -1 -1  3  3 -1  3  3]\n",
      " [ 3 -1 -1 -1  4 -1 -1  3]\n",
      " [ 0 -1 -1 -1  0 -1 -1 -1]]\n",
      "[(1, -1)]\n",
      "[(1, 0), (3, 2), (4, 5), (8, 0)]\n",
      "[(1, 6)]\n",
      "[(1, 0), (5, 6), (8, 0)]\n",
      "[(1, 6)]\n",
      "[(1, 3)]\n",
      "[(1, 3), (5, 4), (8, 3)]\n",
      "[(1, 0)]\n",
      "--------------------------------------\n",
      "[4, 2, 5, 7, 6, 0, 1, 3] 14\n",
      "[[-1  1 -1  3 -1 -1 -1 -1]\n",
      " [-1 -1 -1  5 -1 -1 -1 -1]\n",
      " [ 6  1 -1  6 -1  6  6  6]\n",
      " [-1 -1 -1 -1 -1 -1 -1 -1]\n",
      " [ 6  6  6  6 -1  6  6  6]\n",
      " [ 3  1 -1  3 -1 -1  3  3]\n",
      " [ 3  3 -1  3 -1 -1 -1 -1]\n",
      " [ 0  0 -1  0 -1 -1  0 -1]]\n",
      "[(1, 1), (4, 3)]\n",
      "[(1, -1), (3, 5)]\n",
      "[(1, 6), (2, 1), (4, 6)]\n",
      "[(1, -1)]\n",
      "[(1, 6)]\n",
      "[(1, 3), (2, 1), (4, 3)]\n",
      "[(1, 3)]\n",
      "[(1, 0)]\n",
      "--------------------------------------\n",
      "[4, 1, 5, 7, 6, 2, 3, 0] 13\n",
      "[[-1 -1 -1 -1 -1 -1 -1 -1]\n",
      " [ 0 -1  2  5 -1  5  5  0]\n",
      " [ 6 -1 -1  6 -1 -1 -1 -1]\n",
      " [ 0 -1 -1 -1 -1 -1 -1 -1]\n",
      " [ 6  6  6  6 -1  6  6  6]\n",
      " [ 3 -1  3  3 -1 -1  3  3]\n",
      " [ 3 -1  2  3 -1 -1 -1 -1]\n",
      " [ 0 -1  0  0 -1 -1  0 -1]]\n",
      "[(1, -1)]\n",
      "[(1, 0), (3, 2), (4, 5), (8, 0)]\n",
      "[(1, 6)]\n",
      "[(1, 0)]\n",
      "[(1, 6)]\n",
      "[(1, 3)]\n",
      "[(1, 3), (3, 2), (4, 3)]\n",
      "[(1, 0)]\n"
     ]
    }
   ],
   "source": [
    "wildcards = np.arange(len(cpd)).tolist()\n",
    "\n",
    "wildcardCPD = getWildcardsCPD(cpd, wildcards)\n",
    "rle = getRLE(wildcardCPD)\n",
    "rleLength = getRLELength(rle)\n",
    "maxLength = rleLength\n",
    "print(wildcards, maxLength)\n",
    "print(wildcardCPD)\n",
    "wildcardCPDNext = wildcardCPD\n",
    "for x in rle:\n",
    "    print(x)\n",
    "\n",
    "for i in range(0, 100):\n",
    "    random.shuffle(wildcards)\n",
    "    \n",
    "    wildcardCPD = getWildcardsCPD(cpd, wildcards)\n",
    "    rle = getRLE(wildcardCPD)\n",
    "    rleLength = getRLELength(rle)\n",
    "    if rleLength < maxLength:\n",
    "        maxLength = rleLength\n",
    "        wildcardCPDNext = wildcardCPD\n",
    "        print(\"--------------------------------------\")\n",
    "        print(wildcards, maxLength)\n",
    "        print(wildcardCPD)\n",
    "        for x in rle:\n",
    "            print(x)"
   ]
  },
  {
   "cell_type": "code",
   "execution_count": 227,
   "metadata": {},
   "outputs": [
    {
     "name": "stdout",
     "output_type": "stream",
     "text": [
      "[0, 1, 2, 3, 4, 5, 6, 7] 13\n",
      "[[-1 -1 -1 -1 -1 -1 -1 -1]\n",
      " [ 0 -1  2  5 -1  5  5  0]\n",
      " [ 6 -1 -1  6 -1 -1 -1 -1]\n",
      " [ 0 -1 -1 -1 -1 -1 -1 -1]\n",
      " [ 6  6  6  6 -1  6  6  6]\n",
      " [ 3 -1  3  3 -1 -1  3  3]\n",
      " [ 3 -1  2  3 -1 -1 -1 -1]\n",
      " [ 0 -1  0  0 -1 -1  0 -1]]\n",
      "[(1, -1)]\n",
      "[(1, 0), (3, 2), (4, 5), (8, 0)]\n",
      "[(1, 6)]\n",
      "[(1, 0)]\n",
      "[(1, 6)]\n",
      "[(1, 3)]\n",
      "[(1, 3), (3, 2), (4, 3)]\n",
      "[(1, 0)]\n",
      "--------------------------------------\n",
      "[7, 0, 4, 6, 3, 1, 2, 5] 12\n",
      "[[-1 -1 -1 -1 -1 -1 -1 -1]\n",
      " [ 0  0 -1  5  5 -1  2  5]\n",
      " [-1  6 -1 -1  6 -1 -1 -1]\n",
      " [-1  0 -1 -1 -1 -1 -1 -1]\n",
      " [ 6  6 -1  6  6  6  6  6]\n",
      " [ 3  3 -1  3  3 -1  3 -1]\n",
      " [-1  3 -1 -1  3 -1  2 -1]\n",
      " [-1  0 -1  0  0 -1  0 -1]]\n",
      "[(1, -1)]\n",
      "[(1, 0), (4, 5), (7, 2), (8, 5)]\n",
      "[(1, 6)]\n",
      "[(1, 0)]\n",
      "[(1, 6)]\n",
      "[(1, 3)]\n",
      "[(1, 3), (7, 2)]\n",
      "[(1, 0)]\n",
      "--------------------------------------\n",
      "[0, 7, 6, 4, 5, 3, 1, 2] 11\n",
      "[[-1 -1 -1 -1 -1 -1 -1 -1]\n",
      " [ 0  0  5 -1  5  5 -1  2]\n",
      " [ 6 -1 -1 -1 -1  6 -1 -1]\n",
      " [ 0 -1 -1 -1 -1 -1 -1 -1]\n",
      " [ 6  6  6 -1  6  6  6  6]\n",
      " [ 3  3  3 -1 -1  3 -1  3]\n",
      " [ 3 -1 -1 -1 -1  3 -1  2]\n",
      " [ 0 -1  0 -1 -1  0 -1  0]]\n",
      "[(1, -1)]\n",
      "[(1, 0), (3, 5), (8, 2)]\n",
      "[(1, 6)]\n",
      "[(1, 0)]\n",
      "[(1, 6)]\n",
      "[(1, 3)]\n",
      "[(1, 3), (8, 2)]\n",
      "[(1, 0)]\n"
     ]
    }
   ],
   "source": [
    "perm = np.arange(len(cpd)).tolist()\n",
    "\n",
    "permutationCPD = getPermutationCPD(wildcardCPDNext, perm)\n",
    "rle = getRLE(permutationCPD)\n",
    "rleLength = getRLELength(rle)\n",
    "maxLength = rleLength\n",
    "print(perm, maxLength)\n",
    "print(permutationCPD)\n",
    "for x in rle:\n",
    "    print(x)\n",
    "\n",
    "for i in range(0, 100):\n",
    "    random.shuffle(perm)\n",
    "    \n",
    "    permutationCPD = getPermutationCPD(wildcardCPDNext, perm)\n",
    "    rle = getRLE(permutationCPD)\n",
    "    rleLength = getRLELength(rle)\n",
    "    if rleLength < maxLength:\n",
    "        maxLength = rleLength\n",
    "        print(\"--------------------------------------\")\n",
    "        print(perm, maxLength)\n",
    "        print(permutationCPD)\n",
    "        for x in rle:\n",
    "            print(x)"
   ]
  },
  {
   "cell_type": "code",
   "execution_count": null,
   "metadata": {},
   "outputs": [],
   "source": []
  },
  {
   "cell_type": "code",
   "execution_count": null,
   "metadata": {},
   "outputs": [],
   "source": []
  }
 ],
 "metadata": {
  "kernelspec": {
   "display_name": "Python 3",
   "language": "python",
   "name": "python3"
  },
  "language_info": {
   "codemirror_mode": {
    "name": "ipython",
    "version": 3
   },
   "file_extension": ".py",
   "mimetype": "text/x-python",
   "name": "python",
   "nbconvert_exporter": "python",
   "pygments_lexer": "ipython3",
   "version": "3.7.0"
  }
 },
 "nbformat": 4,
 "nbformat_minor": 2
}
